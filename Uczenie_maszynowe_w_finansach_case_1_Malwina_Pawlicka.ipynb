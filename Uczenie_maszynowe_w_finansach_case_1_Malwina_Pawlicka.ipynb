{
  "nbformat": 4,
  "nbformat_minor": 0,
  "metadata": {
    "colab": {
      "provenance": [],
      "authorship_tag": "ABX9TyOlQFmEji6VTusQFESwlSyr",
      "include_colab_link": true
    },
    "kernelspec": {
      "name": "python3",
      "display_name": "Python 3"
    },
    "language_info": {
      "name": "python"
    }
  },
  "cells": [
    {
      "cell_type": "markdown",
      "metadata": {
        "id": "view-in-github",
        "colab_type": "text"
      },
      "source": [
        "<a href=\"https://colab.research.google.com/github/Malwina9912/Uczenie-maszynowe-/blob/main/Uczenie_maszynowe_w_finansach_case_1_Malwina_Pawlicka.ipynb\" target=\"_parent\"><img src=\"https://colab.research.google.com/assets/colab-badge.svg\" alt=\"Open In Colab\"/></a>"
      ]
    },
    {
      "cell_type": "code",
      "execution_count": 8,
      "metadata": {
        "id": "5GfmqraC4tiy"
      },
      "outputs": [],
      "source": [
        "import pandas as pd\n",
        "from sklearn.model_selection import train_test_split\n",
        "from sklearn.preprocessing import StandardScaler, OneHotEncoder\n",
        "from sklearn.compose import ColumnTransformer\n",
        "from sklearn.pipeline import Pipeline\n"
      ]
    },
    {
      "cell_type": "code",
      "source": [
        "# Wczytanie danych\n",
        "file_path = \"/content/case1 (1).csv\"\n",
        "# Określenie separatora (;)\n",
        "df = pd.read_csv(file_path, sep=';')"
      ],
      "metadata": {
        "id": "EtalbP898e8q"
      },
      "execution_count": 9,
      "outputs": []
    },
    {
      "cell_type": "code",
      "source": [
        "# Sprawdzenie braków danych\n",
        "missing_values = df.isnull().sum()\n",
        "print(\"Braki danych:\\n\", missing_values)\n"
      ],
      "metadata": {
        "colab": {
          "base_uri": "https://localhost:8080/"
        },
        "id": "FpsFaQJZ5nj0",
        "outputId": "2f8691a1-f66b-4167-a0fd-ef7e20bc3a8d"
      },
      "execution_count": 10,
      "outputs": [
        {
          "output_type": "stream",
          "name": "stdout",
          "text": [
            "Braki danych:\n",
            " Unnamed: 0                                                0\n",
            "Index                                                     0\n",
            "Address                                                   0\n",
            "FLAG                                                      0\n",
            "Avg min between sent tnx                                  0\n",
            "Avg min between received tnx                              0\n",
            "Time Diff between first and last (Mins)                   0\n",
            "Sent tnx                                                  0\n",
            "Received Tnx                                              0\n",
            "Number of Created Contracts                               0\n",
            "Unique Received From Addresses                            0\n",
            "Unique Sent To Addresses                                  0\n",
            "min value received                                        0\n",
            "max value received                                        0\n",
            "avg val received                                          0\n",
            "min val sent                                              0\n",
            "max val sent                                              0\n",
            "avg val sent                                              0\n",
            "min value sent to contract                                0\n",
            "max val sent to contract                                  0\n",
            "avg value sent to contract                                0\n",
            "total transactions (including tnx to create contract      0\n",
            "total Ether sent                                          0\n",
            "total ether received                                      0\n",
            "total ether sent contracts                                0\n",
            "total ether balance                                       0\n",
            "Total ERC20 tnxs                                        829\n",
            "ERC20 total Ether received                              829\n",
            "ERC20 total ether sent                                  829\n",
            "ERC20 total Ether sent contract                         829\n",
            "ERC20 uniq sent addr                                    829\n",
            "ERC20 uniq rec addr                                     829\n",
            "ERC20 uniq sent addr.1                                  829\n",
            "ERC20 uniq rec contract addr                            829\n",
            "ERC20 avg time between sent tnx                         829\n",
            "ERC20 avg time between rec tnx                          829\n",
            "ERC20 avg time between rec 2 tnx                        829\n",
            "ERC20 avg time between contract tnx                     829\n",
            "ERC20 min val rec                                       829\n",
            "ERC20 max val rec                                       829\n",
            "ERC20 avg val rec                                       829\n",
            "ERC20 min val sent                                      829\n",
            "ERC20 max val sent                                      829\n",
            "ERC20 avg val sent                                      829\n",
            "ERC20 min val sent contract                             829\n",
            "ERC20 max val sent contract                             829\n",
            "ERC20 avg val sent contract                             829\n",
            "ERC20 uniq sent token name                              829\n",
            "ERC20 uniq rec token name                               829\n",
            "ERC20 most sent token type                              841\n",
            "ERC20_most_rec_token_type                               851\n",
            "dtype: int64\n"
          ]
        }
      ]
    },
    {
      "cell_type": "code",
      "source": [
        "# Usunięcie braków danych\n",
        "df.dropna(inplace=True)"
      ],
      "metadata": {
        "id": "U8G4tNZ08mFt"
      },
      "execution_count": 11,
      "outputs": []
    },
    {
      "cell_type": "code",
      "source": [
        "# Podział na cechy liczbowe i kategoryczne\n",
        "numerical_features = df.select_dtypes(include=['float64']).columns\n",
        "categorical_features = df.select_dtypes(include=['object']).columns"
      ],
      "metadata": {
        "id": "r6Nq0-gF8pI8"
      },
      "execution_count": 12,
      "outputs": []
    },
    {
      "cell_type": "code",
      "source": [
        "# Pipeline dla cech numerycznych\n",
        "numeric_transformer = Pipeline(steps=[\n",
        "    ('scaler', StandardScaler())\n",
        "])"
      ],
      "metadata": {
        "id": "yhTNOuBO8yRA"
      },
      "execution_count": 13,
      "outputs": []
    },
    {
      "cell_type": "code",
      "source": [
        "# Pipeline dla cech kategorycznych\n",
        "categorical_transformer = Pipeline(steps=[\n",
        "    ('onehot', OneHotEncoder(handle_unknown='ignore'))\n",
        "])"
      ],
      "metadata": {
        "id": "sJqOYHDl83Yy"
      },
      "execution_count": 14,
      "outputs": []
    },
    {
      "cell_type": "code",
      "source": [
        "# Połączenie transformacji\n",
        "preprocessor = ColumnTransformer(\n",
        "    transformers=[\n",
        "        ('num', numeric_transformer, numerical_features),\n",
        "        ('cat', categorical_transformer, categorical_features)\n",
        "    ])"
      ],
      "metadata": {
        "id": "hPuT51Md86O4"
      },
      "execution_count": 15,
      "outputs": []
    },
    {
      "cell_type": "code",
      "source": [
        "\n",
        "# Przygotowanie danych\n",
        "X = df.drop(columns=['FLAG'])\n",
        "y = df['FLAG']\n"
      ],
      "metadata": {
        "id": "ZRcoR1vS9AaU"
      },
      "execution_count": 20,
      "outputs": []
    },
    {
      "cell_type": "code",
      "source": [
        "# Podział na zbiór treningowy i testowy\n",
        "X_train, X_test, y_train, y_test = train_test_split(X, y, test_size=0.2, random_state=42)"
      ],
      "metadata": {
        "id": "x6jbtu059DXK"
      },
      "execution_count": 21,
      "outputs": []
    },
    {
      "cell_type": "code",
      "source": [
        "# Przetwarzanie danych\n",
        "X_train_processed = preprocessor.fit_transform(X_train)\n",
        "X_test_processed = preprocessor.transform(X_test)"
      ],
      "metadata": {
        "id": "cok1qMfZ9Ks2"
      },
      "execution_count": 22,
      "outputs": []
    },
    {
      "cell_type": "code",
      "source": [
        "print(\"Kształt X_train:\", X_train_processed.shape)\n",
        "print(\"Kształt X_test:\", X_test_processed.shape)\n",
        "print(\"Kształt y_train:\", y_train.shape)\n",
        "print(\"Kształt y_test:\", y_test.shape)"
      ],
      "metadata": {
        "colab": {
          "base_uri": "https://localhost:8080/"
        },
        "id": "reZIeICT91yZ",
        "outputId": "81b3d709-3ca9-4e2d-a40c-2f6aa2babdab"
      },
      "execution_count": 23,
      "outputs": [
        {
          "output_type": "stream",
          "name": "stdout",
          "text": [
            "Kształt X_train: (7184, 7869)\n",
            "Kształt X_test: (1797, 7869)\n",
            "Kształt y_train: (7184,)\n",
            "Kształt y_test: (1797,)\n"
          ]
        }
      ]
    },
    {
      "cell_type": "code",
      "source": [
        "from sklearn.decomposition import TruncatedSVD\n",
        "from sklearn.preprocessing import StandardScaler"
      ],
      "metadata": {
        "id": "tr3Etwtu95Rj"
      },
      "execution_count": 32,
      "outputs": []
    },
    {
      "cell_type": "code",
      "source": [
        "\n",
        "# Standaryzacja danych\n",
        "scaler = StandardScaler(with_mean=False)\n",
        "X_train_scaled = scaler.fit_transform(X_train_processed)\n",
        "X_test_scaled = scaler.transform(X_test_processed)"
      ],
      "metadata": {
        "id": "Vmwoxqeb-Sdq"
      },
      "execution_count": 33,
      "outputs": []
    },
    {
      "cell_type": "code",
      "source": [
        "# Definicja modelu TruncatedSVD\n",
        "svd = TruncatedSVD(n_components=10)"
      ],
      "metadata": {
        "id": "KVpsEvgb-T3q"
      },
      "execution_count": 34,
      "outputs": []
    },
    {
      "cell_type": "code",
      "source": [
        "\n",
        "# Dopasowanie modelu do danych treningowych\n",
        "X_train_svd = svd.fit_transform(X_train_scaled)"
      ],
      "metadata": {
        "id": "okI4RZsJ_JSG"
      },
      "execution_count": 35,
      "outputs": []
    },
    {
      "cell_type": "code",
      "source": [
        "# Zastosowanie modelu do danych testowych\n",
        "X_test_svd = svd.transform(X_test_scaled)"
      ],
      "metadata": {
        "id": "xScKZ2Dl_dmG"
      },
      "execution_count": 36,
      "outputs": []
    },
    {
      "cell_type": "code",
      "source": [
        "# Informacje o wyjaśnionej wariancji\n",
        "explained_variance = svd.explained_variance_ratio_\n",
        "print(\"Wyjaśniona wariancja przez każdą składową:\\n\", explained_variance)"
      ],
      "metadata": {
        "colab": {
          "base_uri": "https://localhost:8080/"
        },
        "id": "g0VeH1i9_gjN",
        "outputId": "0852a191-bca9-4fba-f246-2756329c629d"
      },
      "execution_count": 37,
      "outputs": [
        {
          "output_type": "stream",
          "name": "stdout",
          "text": [
            "Wyjaśniona wariancja przez każdą składową:\n",
            " [0.00072251 0.00075973 0.00072428 0.00060633 0.00035568 0.00043097\n",
            " 0.00041277 0.00036974 0.000385   0.00037677]\n"
          ]
        }
      ]
    },
    {
      "cell_type": "code",
      "source": [
        "from imblearn.under_sampling import RandomUnderSampler"
      ],
      "metadata": {
        "id": "dheCJfXU_q0M"
      },
      "execution_count": 38,
      "outputs": []
    },
    {
      "cell_type": "code",
      "source": [
        "# Zbilansowanie częściowej próbki\n",
        "under_sampler = RandomUnderSampler(sampling_strategy=0.5, random_state=42)\n",
        "X_train_resampled, y_train_resampled = under_sampler.fit_resample(X_train_scaled, y_train)"
      ],
      "metadata": {
        "id": "JNIoi1IH_71u"
      },
      "execution_count": 39,
      "outputs": []
    },
    {
      "cell_type": "code",
      "source": [
        "\n",
        "# Sprawdzenie rozkładu klas po zbilansowaniu\n",
        "print(\"Rozkład klas po zbilansowaniu:\")\n",
        "print(pd.Series(y_train_resampled).value_counts())"
      ],
      "metadata": {
        "colab": {
          "base_uri": "https://localhost:8080/"
        },
        "id": "u6bOtE-J_9BD",
        "outputId": "e51fbf5a-3f36-4a9b-d279-ef5c0c5011ea"
      },
      "execution_count": 40,
      "outputs": [
        {
          "output_type": "stream",
          "name": "stdout",
          "text": [
            "Rozkład klas po zbilansowaniu:\n",
            "0    2160\n",
            "1    1080\n",
            "Name: FLAG, dtype: int64\n"
          ]
        }
      ]
    },
    {
      "cell_type": "code",
      "source": [
        "from sklearn.ensemble import RandomForestClassifier\n",
        "from sklearn.svm import SVC\n",
        "from sklearn.ensemble import GradientBoostingClassifier\n",
        "from sklearn.metrics import classification_report"
      ],
      "metadata": {
        "id": "UAFnGD-MADjr"
      },
      "execution_count": 41,
      "outputs": []
    },
    {
      "cell_type": "code",
      "source": [
        "# Wybór trzech różnych modeli klasyfikacji\n",
        "models = {\n",
        "    \"Random Forest\": RandomForestClassifier(random_state=42),\n",
        "    \"SVM\": SVC(random_state=42),\n",
        "    \"Gradient Boosting\": GradientBoostingClassifier(random_state=42)\n",
        "}"
      ],
      "metadata": {
        "id": "r8DKkVtGAjeA"
      },
      "execution_count": 42,
      "outputs": []
    },
    {
      "cell_type": "code",
      "source": [
        "# Trenowanie modeli\n",
        "for name, model in models.items():\n",
        "    model.fit(X_train_resampled, y_train_resampled)"
      ],
      "metadata": {
        "id": "hHa4yUxcAmJT"
      },
      "execution_count": 43,
      "outputs": []
    },
    {
      "cell_type": "code",
      "source": [],
      "metadata": {
        "id": "uyXkW21fC6x5"
      },
      "execution_count": null,
      "outputs": []
    },
    {
      "cell_type": "code",
      "source": [
        "# Ocena modeli\n",
        "for name, model in models.items():\n",
        "    print(f\"Model: {name}\")\n",
        "    y_pred = model.predict(X_test_scaled)\n",
        "    print(classification_report(y_test, y_pred))"
      ],
      "metadata": {
        "colab": {
          "base_uri": "https://localhost:8080/"
        },
        "id": "JJm0yk7SAvO_",
        "outputId": "efd0ad11-3f5f-4b41-efdc-709b1fca870d"
      },
      "execution_count": 44,
      "outputs": [
        {
          "output_type": "stream",
          "name": "stdout",
          "text": [
            "Model: Random Forest\n",
            "              precision    recall  f1-score   support\n",
            "\n",
            "           0       0.99      1.00      0.99      1527\n",
            "           1       0.99      0.92      0.95       270\n",
            "\n",
            "    accuracy                           0.99      1797\n",
            "   macro avg       0.99      0.96      0.97      1797\n",
            "weighted avg       0.99      0.99      0.99      1797\n",
            "\n",
            "Model: SVM\n",
            "              precision    recall  f1-score   support\n",
            "\n",
            "           0       0.97      1.00      0.98      1527\n",
            "           1       1.00      0.80      0.89       270\n",
            "\n",
            "    accuracy                           0.97      1797\n",
            "   macro avg       0.98      0.90      0.94      1797\n",
            "weighted avg       0.97      0.97      0.97      1797\n",
            "\n",
            "Model: Gradient Boosting\n",
            "              precision    recall  f1-score   support\n",
            "\n",
            "           0       0.99      1.00      0.99      1527\n",
            "           1       0.98      0.93      0.95       270\n",
            "\n",
            "    accuracy                           0.99      1797\n",
            "   macro avg       0.98      0.96      0.97      1797\n",
            "weighted avg       0.99      0.99      0.99      1797\n",
            "\n"
          ]
        }
      ]
    },
    {
      "cell_type": "code",
      "source": [
        "#\n",
        "#Analizując wyniki oceny modeli dla każdej klasyfikacji, możemy zauważyć, że dla modelu Random Forest uzyskano następujące wyniki:\n",
        "\n",
        "#Precyzja (precision) dla klasy 0: 0.99\n",
        "\n",
        "#Czułość (recall) dla klasy 0: 1.00\n",
        "\n",
        "#F1-score dla klasy 0: 0.99\n",
        "\n",
        "#Wsparcie (support) dla klasy 0: 1527\n",
        "\n",
        "#Precyzja (precision) dla klasy 1: 0.99\n",
        "\n",
        "#Czułość (recall) dla klasy 1: 0.92\n",
        "\n",
        "#F1-score dla klasy 1: 0.95\n",
        "\n",
        "#Wsparcie (support) dla klasy 1: 270\n",
        "\n",
        "#Analiza tych wyników wskazuje, że model Random Forest jest bardzo skuteczny w klasyfikacji obserwacji klasy 0 (brak oszustw), osiągając wysoką precyzję, czułość i F1-score, co sugeruje, że model minimalizuje liczbę fałszywych alarmów i pominiętych oszustw dla tej klasy. Jednocześnie, dla klasy 1 (obserwacje dotyczące oszustw), model osiąga wysoką precyzję, co oznacza, że większość przewidywanych przez model przypadków oszustw rzeczywiście są oszustwami. Jednakże, czułość dla klasy 1 wynosi 0.92, co oznacza, że istnieje niewielkie ryzyko pominięcia niektórych przypadków oszustw.\n",
        "\n",
        "#Podsumowując, na podstawie analizy wyników oceny, można stwierdzić, że model Random Forest jest skuteczny w klasyfikacji obserwacji klasy 0, ale może być nieco mniej skuteczny w wykrywaniu wszystkich przypadków oszustw (klasa 1). Jednakże, jego wysoka precyzja sugeruje, że większość przypadków sklasyfikowanych jako oszustwa jest rzeczywiście oszustwami. Dlatego też, w kontekście detekcji oszustw, model Random Forest wydaje się być dobrym wyborem."
      ],
      "metadata": {
        "id": "b_vLw82ZC8q0"
      },
      "execution_count": null,
      "outputs": []
    }
  ]
}