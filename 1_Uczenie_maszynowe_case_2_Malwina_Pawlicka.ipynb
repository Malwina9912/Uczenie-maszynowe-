{
  "nbformat": 4,
  "nbformat_minor": 0,
  "metadata": {
    "colab": {
      "provenance": [],
      "authorship_tag": "ABX9TyNVd80TgM1ttWQf0fy3kP2T",
      "include_colab_link": true
    },
    "kernelspec": {
      "name": "python3",
      "display_name": "Python 3"
    },
    "language_info": {
      "name": "python"
    }
  },
  "cells": [
    {
      "cell_type": "markdown",
      "metadata": {
        "id": "view-in-github",
        "colab_type": "text"
      },
      "source": [
        "<a href=\"https://colab.research.google.com/github/Malwina9912/Uczenie-maszynowe-/blob/main/1_Uczenie_maszynowe_case_2_Malwina_Pawlicka.ipynb\" target=\"_parent\"><img src=\"https://colab.research.google.com/assets/colab-badge.svg\" alt=\"Open In Colab\"/></a>"
      ]
    },
    {
      "cell_type": "code",
      "execution_count": 1,
      "metadata": {
        "id": "PRpzxXAytkAw"
      },
      "outputs": [],
      "source": [
        "import pandas as pd\n",
        "\n",
        "# Ładowanie danych z pliku ratings.csv\n",
        "ratings_url = 'https://s3-us-west-2.amazonaws.com/recommender-tutorial/ratings.csv'\n",
        "ratings = pd.read_csv(ratings_url)\n",
        "\n"
      ]
    },
    {
      "cell_type": "code",
      "source": [
        "# Ładowanie danych z pliku movies.csv\n",
        "movies_url = 'https://s3-us-west-2.amazonaws.com/recommender-tutorial/movies.csv'\n",
        "movies = pd.read_csv(movies_url)"
      ],
      "metadata": {
        "id": "Ko2NmeukuC6x"
      },
      "execution_count": 2,
      "outputs": []
    },
    {
      "cell_type": "code",
      "source": [
        "sci_fi_count = movies[movies['genres'].str.contains('Sci-Fi')].shape[0]\n",
        "print(\"Liczba filmów Sci-Fi:\", sci_fi_count)\n",
        "\n"
      ],
      "metadata": {
        "colab": {
          "base_uri": "https://localhost:8080/"
        },
        "id": "_MPOVyqKuLea",
        "outputId": "810ce0a6-f148-4018-a926-819b3bacd353"
      },
      "execution_count": 3,
      "outputs": [
        {
          "output_type": "stream",
          "name": "stdout",
          "text": [
            "Liczba filmów Sci-Fi: 980\n"
          ]
        }
      ]
    },
    {
      "cell_type": "code",
      "source": [
        "# Łączenie danych z ocenami komedii\n",
        "comedy_ratings = ratings[ratings['movieId'].isin(movies[movies['genres'].str.contains('Comedy')]['movieId'])]\n",
        "\n"
      ],
      "metadata": {
        "id": "f7G5wZbSubxZ"
      },
      "execution_count": 4,
      "outputs": []
    },
    {
      "cell_type": "code",
      "source": [
        "# Obliczanie rozkładu ocen\n",
        "comedy_ratings_distribution = comedy_ratings['rating'].value_counts().sort_index()\n",
        "print(\"Rozkład ocen komedii:\\n\", comedy_ratings_distribution)\n"
      ],
      "metadata": {
        "colab": {
          "base_uri": "https://localhost:8080/"
        },
        "id": "ummBG_ZBudAw",
        "outputId": "b1677a41-a21c-474b-d7b6-fe9f8f4a8268"
      },
      "execution_count": 5,
      "outputs": [
        {
          "output_type": "stream",
          "name": "stdout",
          "text": [
            "Rozkład ocen komedii:\n",
            " rating\n",
            "0.5     632\n",
            "1.0    1317\n",
            "1.5     895\n",
            "2.0    3405\n",
            "2.5    2530\n",
            "3.0    8306\n",
            "3.5    5086\n",
            "4.0    9659\n",
            "4.5    2794\n",
            "5.0    4429\n",
            "Name: count, dtype: int64\n"
          ]
        }
      ]
    },
    {
      "cell_type": "code",
      "source": [
        "# Filmy akcji\n",
        "action_movies = movies[movies['genres'].str.contains('Action')]"
      ],
      "metadata": {
        "id": "w3GIqixguhAQ"
      },
      "execution_count": 6,
      "outputs": []
    },
    {
      "cell_type": "code",
      "source": [
        "# Oceny filmów akcji\n",
        "action_ratings = ratings[ratings['movieId'].isin(action_movies['movieId'])]"
      ],
      "metadata": {
        "id": "chZvG3TTuijK"
      },
      "execution_count": 7,
      "outputs": []
    },
    {
      "cell_type": "code",
      "source": [
        "# Średnia ocen wszystkich filmów akcji\n",
        "action_mean_rating = action_ratings['rating'].mean()\n",
        "print(\"Średnia ocen filmów akcji:\", action_mean_rating)"
      ],
      "metadata": {
        "colab": {
          "base_uri": "https://localhost:8080/"
        },
        "id": "ZqAddbREulVs",
        "outputId": "d294614b-be57-4aac-c125-904b3fd1fe93"
      },
      "execution_count": 8,
      "outputs": [
        {
          "output_type": "stream",
          "name": "stdout",
          "text": [
            "Średnia ocen filmów akcji: 3.447984331646809\n"
          ]
        }
      ]
    },
    {
      "cell_type": "code",
      "source": [
        "# 3 najwyżej oceniane filmy akcji\n",
        "top_3_action_movies = action_ratings.groupby('movieId').agg({'rating': 'mean'}).nlargest(3, 'rating')\n",
        "print(\"3 filmy najwyżej oceniane w kategorii akcji:\\n\", top_3_action_movies)"
      ],
      "metadata": {
        "colab": {
          "base_uri": "https://localhost:8080/"
        },
        "id": "V_GlhdnSupO3",
        "outputId": "80e47866-35e9-4110-c2e5-e45370fb0cd9"
      },
      "execution_count": 9,
      "outputs": [
        {
          "output_type": "stream",
          "name": "stdout",
          "text": [
            "3 filmy najwyżej oceniane w kategorii akcji:\n",
            "          rating\n",
            "movieId        \n",
            "876         5.0\n",
            "1631        5.0\n",
            "2196        5.0\n"
          ]
        }
      ]
    },
    {
      "cell_type": "code",
      "source": [
        "# Indeksy filmów\n",
        "top_3_action_movie_ids = top_3_action_movies.index\n",
        "\n",
        "# Tytuły filmów\n",
        "top_3_action_movie_titles = movies[movies['movieId'].isin(top_3_action_movie_ids)]['title']\n",
        "\n",
        "print(\"Tytuły 3 najwyżej ocenianych filmów w kategorii akcji:\")\n",
        "print(top_3_action_movie_titles)"
      ],
      "metadata": {
        "colab": {
          "base_uri": "https://localhost:8080/"
        },
        "id": "x0eZo2Ym8rSv",
        "outputId": "127c423c-b6e5-416b-cb7c-3261c229a43f"
      },
      "execution_count": 45,
      "outputs": [
        {
          "output_type": "stream",
          "name": "stdout",
          "text": [
            "Tytuły 3 najwyżej ocenianych filmów w kategorii akcji:\n",
            "666     Supercop 2 (Project S) (Chao ji ji hua) (1993)\n",
            "1228                            Assignment, The (1997)\n",
            "1647                                  Knock Off (1998)\n",
            "Name: title, dtype: object\n"
          ]
        }
      ]
    },
    {
      "cell_type": "code",
      "source": [
        "# Średnia ocen wszystkich filmów akcji\n",
        "action_movies = movies[movies['genres'].str.contains('Action')]\n",
        "action_ratings = ratings[ratings['movieId'].isin(action_movies['movieId'])]\n",
        "average_action_rating = action_ratings['rating'].mean()\n",
        "print(\"Średnia ocen wszystkich filmów akcji:\", average_action_rating)\n",
        "\n",
        "# 3 filmy najwyżej oceniane w kategorii akcji\n",
        "top_3_action_movies\n"
      ],
      "metadata": {
        "colab": {
          "base_uri": "https://localhost:8080/",
          "height": 192
        },
        "id": "3i-AwRVB9I-6",
        "outputId": "4f06bfdb-1224-4f6c-f47d-e0a5f89b2124"
      },
      "execution_count": 46,
      "outputs": [
        {
          "output_type": "stream",
          "name": "stdout",
          "text": [
            "Średnia ocen wszystkich filmów akcji: 3.447984331646809\n"
          ]
        },
        {
          "output_type": "execute_result",
          "data": {
            "text/plain": [
              "         rating\n",
              "movieId        \n",
              "876         5.0\n",
              "1631        5.0\n",
              "2196        5.0"
            ],
            "text/html": [
              "\n",
              "  <div id=\"df-bd4101d5-55fd-406f-ba22-de925e004216\" class=\"colab-df-container\">\n",
              "    <div>\n",
              "<style scoped>\n",
              "    .dataframe tbody tr th:only-of-type {\n",
              "        vertical-align: middle;\n",
              "    }\n",
              "\n",
              "    .dataframe tbody tr th {\n",
              "        vertical-align: top;\n",
              "    }\n",
              "\n",
              "    .dataframe thead th {\n",
              "        text-align: right;\n",
              "    }\n",
              "</style>\n",
              "<table border=\"1\" class=\"dataframe\">\n",
              "  <thead>\n",
              "    <tr style=\"text-align: right;\">\n",
              "      <th></th>\n",
              "      <th>rating</th>\n",
              "    </tr>\n",
              "    <tr>\n",
              "      <th>movieId</th>\n",
              "      <th></th>\n",
              "    </tr>\n",
              "  </thead>\n",
              "  <tbody>\n",
              "    <tr>\n",
              "      <th>876</th>\n",
              "      <td>5.0</td>\n",
              "    </tr>\n",
              "    <tr>\n",
              "      <th>1631</th>\n",
              "      <td>5.0</td>\n",
              "    </tr>\n",
              "    <tr>\n",
              "      <th>2196</th>\n",
              "      <td>5.0</td>\n",
              "    </tr>\n",
              "  </tbody>\n",
              "</table>\n",
              "</div>\n",
              "    <div class=\"colab-df-buttons\">\n",
              "\n",
              "  <div class=\"colab-df-container\">\n",
              "    <button class=\"colab-df-convert\" onclick=\"convertToInteractive('df-bd4101d5-55fd-406f-ba22-de925e004216')\"\n",
              "            title=\"Convert this dataframe to an interactive table.\"\n",
              "            style=\"display:none;\">\n",
              "\n",
              "  <svg xmlns=\"http://www.w3.org/2000/svg\" height=\"24px\" viewBox=\"0 -960 960 960\">\n",
              "    <path d=\"M120-120v-720h720v720H120Zm60-500h600v-160H180v160Zm220 220h160v-160H400v160Zm0 220h160v-160H400v160ZM180-400h160v-160H180v160Zm440 0h160v-160H620v160ZM180-180h160v-160H180v160Zm440 0h160v-160H620v160Z\"/>\n",
              "  </svg>\n",
              "    </button>\n",
              "\n",
              "  <style>\n",
              "    .colab-df-container {\n",
              "      display:flex;\n",
              "      gap: 12px;\n",
              "    }\n",
              "\n",
              "    .colab-df-convert {\n",
              "      background-color: #E8F0FE;\n",
              "      border: none;\n",
              "      border-radius: 50%;\n",
              "      cursor: pointer;\n",
              "      display: none;\n",
              "      fill: #1967D2;\n",
              "      height: 32px;\n",
              "      padding: 0 0 0 0;\n",
              "      width: 32px;\n",
              "    }\n",
              "\n",
              "    .colab-df-convert:hover {\n",
              "      background-color: #E2EBFA;\n",
              "      box-shadow: 0px 1px 2px rgba(60, 64, 67, 0.3), 0px 1px 3px 1px rgba(60, 64, 67, 0.15);\n",
              "      fill: #174EA6;\n",
              "    }\n",
              "\n",
              "    .colab-df-buttons div {\n",
              "      margin-bottom: 4px;\n",
              "    }\n",
              "\n",
              "    [theme=dark] .colab-df-convert {\n",
              "      background-color: #3B4455;\n",
              "      fill: #D2E3FC;\n",
              "    }\n",
              "\n",
              "    [theme=dark] .colab-df-convert:hover {\n",
              "      background-color: #434B5C;\n",
              "      box-shadow: 0px 1px 3px 1px rgba(0, 0, 0, 0.15);\n",
              "      filter: drop-shadow(0px 1px 2px rgba(0, 0, 0, 0.3));\n",
              "      fill: #FFFFFF;\n",
              "    }\n",
              "  </style>\n",
              "\n",
              "    <script>\n",
              "      const buttonEl =\n",
              "        document.querySelector('#df-bd4101d5-55fd-406f-ba22-de925e004216 button.colab-df-convert');\n",
              "      buttonEl.style.display =\n",
              "        google.colab.kernel.accessAllowed ? 'block' : 'none';\n",
              "\n",
              "      async function convertToInteractive(key) {\n",
              "        const element = document.querySelector('#df-bd4101d5-55fd-406f-ba22-de925e004216');\n",
              "        const dataTable =\n",
              "          await google.colab.kernel.invokeFunction('convertToInteractive',\n",
              "                                                    [key], {});\n",
              "        if (!dataTable) return;\n",
              "\n",
              "        const docLinkHtml = 'Like what you see? Visit the ' +\n",
              "          '<a target=\"_blank\" href=https://colab.research.google.com/notebooks/data_table.ipynb>data table notebook</a>'\n",
              "          + ' to learn more about interactive tables.';\n",
              "        element.innerHTML = '';\n",
              "        dataTable['output_type'] = 'display_data';\n",
              "        await google.colab.output.renderOutput(dataTable, element);\n",
              "        const docLink = document.createElement('div');\n",
              "        docLink.innerHTML = docLinkHtml;\n",
              "        element.appendChild(docLink);\n",
              "      }\n",
              "    </script>\n",
              "  </div>\n",
              "\n",
              "\n",
              "<div id=\"df-461f1d9c-53e2-4121-87d0-da76d21e869e\">\n",
              "  <button class=\"colab-df-quickchart\" onclick=\"quickchart('df-461f1d9c-53e2-4121-87d0-da76d21e869e')\"\n",
              "            title=\"Suggest charts\"\n",
              "            style=\"display:none;\">\n",
              "\n",
              "<svg xmlns=\"http://www.w3.org/2000/svg\" height=\"24px\"viewBox=\"0 0 24 24\"\n",
              "     width=\"24px\">\n",
              "    <g>\n",
              "        <path d=\"M19 3H5c-1.1 0-2 .9-2 2v14c0 1.1.9 2 2 2h14c1.1 0 2-.9 2-2V5c0-1.1-.9-2-2-2zM9 17H7v-7h2v7zm4 0h-2V7h2v10zm4 0h-2v-4h2v4z\"/>\n",
              "    </g>\n",
              "</svg>\n",
              "  </button>\n",
              "\n",
              "<style>\n",
              "  .colab-df-quickchart {\n",
              "      --bg-color: #E8F0FE;\n",
              "      --fill-color: #1967D2;\n",
              "      --hover-bg-color: #E2EBFA;\n",
              "      --hover-fill-color: #174EA6;\n",
              "      --disabled-fill-color: #AAA;\n",
              "      --disabled-bg-color: #DDD;\n",
              "  }\n",
              "\n",
              "  [theme=dark] .colab-df-quickchart {\n",
              "      --bg-color: #3B4455;\n",
              "      --fill-color: #D2E3FC;\n",
              "      --hover-bg-color: #434B5C;\n",
              "      --hover-fill-color: #FFFFFF;\n",
              "      --disabled-bg-color: #3B4455;\n",
              "      --disabled-fill-color: #666;\n",
              "  }\n",
              "\n",
              "  .colab-df-quickchart {\n",
              "    background-color: var(--bg-color);\n",
              "    border: none;\n",
              "    border-radius: 50%;\n",
              "    cursor: pointer;\n",
              "    display: none;\n",
              "    fill: var(--fill-color);\n",
              "    height: 32px;\n",
              "    padding: 0;\n",
              "    width: 32px;\n",
              "  }\n",
              "\n",
              "  .colab-df-quickchart:hover {\n",
              "    background-color: var(--hover-bg-color);\n",
              "    box-shadow: 0 1px 2px rgba(60, 64, 67, 0.3), 0 1px 3px 1px rgba(60, 64, 67, 0.15);\n",
              "    fill: var(--button-hover-fill-color);\n",
              "  }\n",
              "\n",
              "  .colab-df-quickchart-complete:disabled,\n",
              "  .colab-df-quickchart-complete:disabled:hover {\n",
              "    background-color: var(--disabled-bg-color);\n",
              "    fill: var(--disabled-fill-color);\n",
              "    box-shadow: none;\n",
              "  }\n",
              "\n",
              "  .colab-df-spinner {\n",
              "    border: 2px solid var(--fill-color);\n",
              "    border-color: transparent;\n",
              "    border-bottom-color: var(--fill-color);\n",
              "    animation:\n",
              "      spin 1s steps(1) infinite;\n",
              "  }\n",
              "\n",
              "  @keyframes spin {\n",
              "    0% {\n",
              "      border-color: transparent;\n",
              "      border-bottom-color: var(--fill-color);\n",
              "      border-left-color: var(--fill-color);\n",
              "    }\n",
              "    20% {\n",
              "      border-color: transparent;\n",
              "      border-left-color: var(--fill-color);\n",
              "      border-top-color: var(--fill-color);\n",
              "    }\n",
              "    30% {\n",
              "      border-color: transparent;\n",
              "      border-left-color: var(--fill-color);\n",
              "      border-top-color: var(--fill-color);\n",
              "      border-right-color: var(--fill-color);\n",
              "    }\n",
              "    40% {\n",
              "      border-color: transparent;\n",
              "      border-right-color: var(--fill-color);\n",
              "      border-top-color: var(--fill-color);\n",
              "    }\n",
              "    60% {\n",
              "      border-color: transparent;\n",
              "      border-right-color: var(--fill-color);\n",
              "    }\n",
              "    80% {\n",
              "      border-color: transparent;\n",
              "      border-right-color: var(--fill-color);\n",
              "      border-bottom-color: var(--fill-color);\n",
              "    }\n",
              "    90% {\n",
              "      border-color: transparent;\n",
              "      border-bottom-color: var(--fill-color);\n",
              "    }\n",
              "  }\n",
              "</style>\n",
              "\n",
              "  <script>\n",
              "    async function quickchart(key) {\n",
              "      const quickchartButtonEl =\n",
              "        document.querySelector('#' + key + ' button');\n",
              "      quickchartButtonEl.disabled = true;  // To prevent multiple clicks.\n",
              "      quickchartButtonEl.classList.add('colab-df-spinner');\n",
              "      try {\n",
              "        const charts = await google.colab.kernel.invokeFunction(\n",
              "            'suggestCharts', [key], {});\n",
              "      } catch (error) {\n",
              "        console.error('Error during call to suggestCharts:', error);\n",
              "      }\n",
              "      quickchartButtonEl.classList.remove('colab-df-spinner');\n",
              "      quickchartButtonEl.classList.add('colab-df-quickchart-complete');\n",
              "    }\n",
              "    (() => {\n",
              "      let quickchartButtonEl =\n",
              "        document.querySelector('#df-461f1d9c-53e2-4121-87d0-da76d21e869e button');\n",
              "      quickchartButtonEl.style.display =\n",
              "        google.colab.kernel.accessAllowed ? 'block' : 'none';\n",
              "    })();\n",
              "  </script>\n",
              "</div>\n",
              "    </div>\n",
              "  </div>\n"
            ],
            "application/vnd.google.colaboratory.intrinsic+json": {
              "type": "dataframe",
              "variable_name": "top_3_action_movies",
              "summary": "{\n  \"name\": \"top_3_action_movies\",\n  \"rows\": 3,\n  \"fields\": [\n    {\n      \"column\": \"movieId\",\n      \"properties\": {\n        \"dtype\": \"number\",\n        \"std\": 662,\n        \"min\": 876,\n        \"max\": 2196,\n        \"num_unique_values\": 3,\n        \"samples\": [\n          876,\n          1631,\n          2196\n        ],\n        \"semantic_type\": \"\",\n        \"description\": \"\"\n      }\n    },\n    {\n      \"column\": \"rating\",\n      \"properties\": {\n        \"dtype\": \"number\",\n        \"std\": 0.0,\n        \"min\": 5.0,\n        \"max\": 5.0,\n        \"num_unique_values\": 1,\n        \"samples\": [\n          5.0\n        ],\n        \"semantic_type\": \"\",\n        \"description\": \"\"\n      }\n    }\n  ]\n}"
            }
          },
          "metadata": {},
          "execution_count": 46
        }
      ]
    },
    {
      "cell_type": "code",
      "source": [
        "!pip install scikit-surprise\n"
      ],
      "metadata": {
        "colab": {
          "base_uri": "https://localhost:8080/"
        },
        "id": "ZmKZTioBvTt4",
        "outputId": "bb26ef3b-324f-48bd-8497-ced70c1a9d56"
      },
      "execution_count": 10,
      "outputs": [
        {
          "output_type": "stream",
          "name": "stdout",
          "text": [
            "Collecting scikit-surprise\n",
            "  Downloading scikit-surprise-1.1.3.tar.gz (771 kB)\n",
            "\u001b[?25l     \u001b[90m━━━━━━━━━━━━━━━━━━━━━━━━━━━━━━━━━━━━━━━━\u001b[0m \u001b[32m0.0/772.0 kB\u001b[0m \u001b[31m?\u001b[0m eta \u001b[36m-:--:--\u001b[0m\r\u001b[2K     \u001b[91m━━━\u001b[0m\u001b[90m╺\u001b[0m\u001b[90m━━━━━━━━━━━━━━━━━━━━━━━━━━━━━━━━━━━━\u001b[0m \u001b[32m61.4/772.0 kB\u001b[0m \u001b[31m1.8 MB/s\u001b[0m eta \u001b[36m0:00:01\u001b[0m\r\u001b[2K     \u001b[91m━━━━━━━━━━━━━━━━━━━━━━━━━━━\u001b[0m\u001b[91m╸\u001b[0m\u001b[90m━━━━━━━━━━━━\u001b[0m \u001b[32m532.5/772.0 kB\u001b[0m \u001b[31m7.7 MB/s\u001b[0m eta \u001b[36m0:00:01\u001b[0m\r\u001b[2K     \u001b[90m━━━━━━━━━━━━━━━━━━━━━━━━━━━━━━━━━━━━━━━━\u001b[0m \u001b[32m772.0/772.0 kB\u001b[0m \u001b[31m7.5 MB/s\u001b[0m eta \u001b[36m0:00:00\u001b[0m\n",
            "\u001b[?25h  Preparing metadata (setup.py) ... \u001b[?25l\u001b[?25hdone\n",
            "Requirement already satisfied: joblib>=1.0.0 in /usr/local/lib/python3.10/dist-packages (from scikit-surprise) (1.4.0)\n",
            "Requirement already satisfied: numpy>=1.17.3 in /usr/local/lib/python3.10/dist-packages (from scikit-surprise) (1.25.2)\n",
            "Requirement already satisfied: scipy>=1.3.2 in /usr/local/lib/python3.10/dist-packages (from scikit-surprise) (1.11.4)\n",
            "Building wheels for collected packages: scikit-surprise\n",
            "  Building wheel for scikit-surprise (setup.py) ... \u001b[?25l\u001b[?25hdone\n",
            "  Created wheel for scikit-surprise: filename=scikit_surprise-1.1.3-cp310-cp310-linux_x86_64.whl size=3162990 sha256=4dc4c0b1f5bf910e657262d638b5a8419ceff81b52e31617ba3d6c9947692cb8\n",
            "  Stored in directory: /root/.cache/pip/wheels/a5/ca/a8/4e28def53797fdc4363ca4af740db15a9c2f1595ebc51fb445\n",
            "Successfully built scikit-surprise\n",
            "Installing collected packages: scikit-surprise\n",
            "Successfully installed scikit-surprise-1.1.3\n"
          ]
        }
      ]
    },
    {
      "cell_type": "code",
      "source": [
        "from surprise import Dataset, Reader, SVD, KNNWithMeans\n",
        "from surprise.model_selection import cross_validate\n"
      ],
      "metadata": {
        "id": "mhVWAHagusuo"
      },
      "execution_count": 11,
      "outputs": []
    },
    {
      "cell_type": "code",
      "source": [
        "\n",
        "# Załaduj dane z biblioteki Surprise\n",
        "reader = Reader(rating_scale=(1, 5))\n",
        "data = Dataset.load_from_df(ratings[['userId', 'movieId', 'rating']], reader)"
      ],
      "metadata": {
        "id": "R4KzJffOvM3F"
      },
      "execution_count": 12,
      "outputs": []
    },
    {
      "cell_type": "code",
      "source": [
        "# Zdefiniuj algorytmy\n",
        "svd = SVD()\n",
        "knn_means = KNNWithMeans()"
      ],
      "metadata": {
        "id": "SXu7IT_Mu_99"
      },
      "execution_count": 13,
      "outputs": []
    },
    {
      "cell_type": "code",
      "source": [
        "# Przeprowadź walidację krzyżową dla algorytmu SVD\n",
        "svd_cv_results = cross_validate(svd, data, measures=['RMSE', 'MAE'], cv=5, verbose=True)"
      ],
      "metadata": {
        "id": "OFckCd23vHv_",
        "colab": {
          "base_uri": "https://localhost:8080/"
        },
        "outputId": "3c0d52f8-1b80-4573-c660-9d9091ab7c5b"
      },
      "execution_count": 14,
      "outputs": [
        {
          "output_type": "stream",
          "name": "stdout",
          "text": [
            "Evaluating RMSE, MAE of algorithm SVD on 5 split(s).\n",
            "\n",
            "                  Fold 1  Fold 2  Fold 3  Fold 4  Fold 5  Mean    Std     \n",
            "RMSE (testset)    0.8752  0.8770  0.8683  0.8681  0.8762  0.8730  0.0039  \n",
            "MAE (testset)     0.6711  0.6740  0.6706  0.6649  0.6722  0.6705  0.0031  \n",
            "Fit time          1.64    1.64    4.53    2.87    2.37    2.61    1.07    \n",
            "Test time         0.22    0.13    0.34    0.26    0.11    0.21    0.09    \n"
          ]
        }
      ]
    },
    {
      "cell_type": "code",
      "source": [
        "# Przeprowadź walidację krzyżową dla algorytmu kNN with Means\n",
        "knn_means_cv_results = cross_validate(knn_means, data, measures=['RMSE', 'MAE'], cv=5, verbose=True)"
      ],
      "metadata": {
        "id": "QYpTefpfvK7v",
        "colab": {
          "base_uri": "https://localhost:8080/"
        },
        "outputId": "e95ef3b8-1deb-4a8d-ae9d-89d8da2d8819"
      },
      "execution_count": 15,
      "outputs": [
        {
          "output_type": "stream",
          "name": "stdout",
          "text": [
            "Computing the msd similarity matrix...\n",
            "Done computing similarity matrix.\n",
            "Computing the msd similarity matrix...\n",
            "Done computing similarity matrix.\n",
            "Computing the msd similarity matrix...\n",
            "Done computing similarity matrix.\n",
            "Computing the msd similarity matrix...\n",
            "Done computing similarity matrix.\n",
            "Computing the msd similarity matrix...\n",
            "Done computing similarity matrix.\n",
            "Evaluating RMSE, MAE of algorithm KNNWithMeans on 5 split(s).\n",
            "\n",
            "                  Fold 1  Fold 2  Fold 3  Fold 4  Fold 5  Mean    Std     \n",
            "RMSE (testset)    0.8892  0.9008  0.8988  0.9028  0.8939  0.8971  0.0049  \n",
            "MAE (testset)     0.6813  0.6871  0.6851  0.6891  0.6851  0.6855  0.0026  \n",
            "Fit time          0.14    0.23    0.30    0.33    0.22    0.25    0.07    \n",
            "Test time         2.49    2.58    4.03    2.79    2.16    2.81    0.64    \n"
          ]
        }
      ]
    },
    {
      "cell_type": "code",
      "source": [
        "from surprise.model_selection import GridSearchCV"
      ],
      "metadata": {
        "id": "K8LRfGwxvett"
      },
      "execution_count": 16,
      "outputs": []
    },
    {
      "cell_type": "code",
      "source": [
        "# Definiujesz siatkę parametrów do przeszukania\n",
        "param_grid = {'k': [2, 3, 4, 5, 6]}"
      ],
      "metadata": {
        "id": "QGGD_24qvgC7"
      },
      "execution_count": 17,
      "outputs": []
    },
    {
      "cell_type": "code",
      "source": [
        "# Przeszukujesz siatkę parametrów za pomocą metody GridSearchCV\n",
        "grid_search = GridSearchCV(KNNWithMeans, param_grid, measures=['rmse', 'mae'], cv=5)\n",
        "grid_search.fit(data)"
      ],
      "metadata": {
        "id": "h9x0NCcXvgdX",
        "colab": {
          "base_uri": "https://localhost:8080/"
        },
        "outputId": "435ebc42-c375-4866-9e15-d5a338338312"
      },
      "execution_count": 18,
      "outputs": [
        {
          "output_type": "stream",
          "name": "stdout",
          "text": [
            "Computing the msd similarity matrix...\n",
            "Done computing similarity matrix.\n",
            "Computing the msd similarity matrix...\n",
            "Done computing similarity matrix.\n",
            "Computing the msd similarity matrix...\n",
            "Done computing similarity matrix.\n",
            "Computing the msd similarity matrix...\n",
            "Done computing similarity matrix.\n",
            "Computing the msd similarity matrix...\n",
            "Done computing similarity matrix.\n",
            "Computing the msd similarity matrix...\n",
            "Done computing similarity matrix.\n",
            "Computing the msd similarity matrix...\n",
            "Done computing similarity matrix.\n",
            "Computing the msd similarity matrix...\n",
            "Done computing similarity matrix.\n",
            "Computing the msd similarity matrix...\n",
            "Done computing similarity matrix.\n",
            "Computing the msd similarity matrix...\n",
            "Done computing similarity matrix.\n",
            "Computing the msd similarity matrix...\n",
            "Done computing similarity matrix.\n",
            "Computing the msd similarity matrix...\n",
            "Done computing similarity matrix.\n",
            "Computing the msd similarity matrix...\n",
            "Done computing similarity matrix.\n",
            "Computing the msd similarity matrix...\n",
            "Done computing similarity matrix.\n",
            "Computing the msd similarity matrix...\n",
            "Done computing similarity matrix.\n",
            "Computing the msd similarity matrix...\n",
            "Done computing similarity matrix.\n",
            "Computing the msd similarity matrix...\n",
            "Done computing similarity matrix.\n",
            "Computing the msd similarity matrix...\n",
            "Done computing similarity matrix.\n",
            "Computing the msd similarity matrix...\n",
            "Done computing similarity matrix.\n",
            "Computing the msd similarity matrix...\n",
            "Done computing similarity matrix.\n",
            "Computing the msd similarity matrix...\n",
            "Done computing similarity matrix.\n",
            "Computing the msd similarity matrix...\n",
            "Done computing similarity matrix.\n",
            "Computing the msd similarity matrix...\n",
            "Done computing similarity matrix.\n",
            "Computing the msd similarity matrix...\n",
            "Done computing similarity matrix.\n",
            "Computing the msd similarity matrix...\n",
            "Done computing similarity matrix.\n"
          ]
        }
      ]
    },
    {
      "cell_type": "code",
      "source": [
        "# Wypisujesz najlepsze parametry oraz wyniki\n",
        "print(\"Najlepsze parametry:\", grid_search.best_params)\n",
        "print(\"Najlepszy wynik RMSE:\", grid_search.best_score['rmse'])\n",
        "print(\"Najlepszy wynik MAE:\", grid_search.best_score['mae'])"
      ],
      "metadata": {
        "id": "fXUJWZ5_vh2K",
        "colab": {
          "base_uri": "https://localhost:8080/"
        },
        "outputId": "19c12a11-865e-4978-80e2-16bd0b13d034"
      },
      "execution_count": 19,
      "outputs": [
        {
          "output_type": "stream",
          "name": "stdout",
          "text": [
            "Najlepsze parametry: {'rmse': {'k': 6}, 'mae': {'k': 6}}\n",
            "Najlepszy wynik RMSE: 0.9216333695765633\n",
            "Najlepszy wynik MAE: 0.7087308111468686\n"
          ]
        }
      ]
    },
    {
      "cell_type": "code",
      "source": [
        "from surprise import Dataset, Reader, KNNWithMeans\n",
        "from surprise.model_selection import train_test_split"
      ],
      "metadata": {
        "id": "14n-VagUvwwT"
      },
      "execution_count": 20,
      "outputs": []
    },
    {
      "cell_type": "code",
      "source": [
        "# Utwórz obiekt Dataset i Reader\n",
        "reader = Reader(rating_scale=(1, 5))\n",
        "data = Dataset.load_from_df(ratings[['userId', 'movieId', 'rating']], reader)"
      ],
      "metadata": {
        "id": "wYQcbWhXzAKQ"
      },
      "execution_count": 21,
      "outputs": []
    },
    {
      "cell_type": "code",
      "source": [
        "from surprise.model_selection import train_test_split\n"
      ],
      "metadata": {
        "id": "wIPJg8TLzUOS"
      },
      "execution_count": 22,
      "outputs": []
    },
    {
      "cell_type": "code",
      "source": [
        "# Podziel zestaw danych na zestaw treningowy i testowy\n",
        "trainset, _ = train_test_split(data, test_size=0.2, random_state=42)\n"
      ],
      "metadata": {
        "id": "IXo9VBIAzB5n"
      },
      "execution_count": 23,
      "outputs": []
    },
    {
      "cell_type": "code",
      "source": [
        "# Utwórz instancję algorytmu kNN z wykorzystaniem średnich ocen\n",
        "algo = KNNWithMeans(k=5, sim_options={'name': 'cosine', 'user_based': False})"
      ],
      "metadata": {
        "id": "zlhI9TM1zFAm"
      },
      "execution_count": 24,
      "outputs": []
    },
    {
      "cell_type": "code",
      "source": [
        "# Dopasuj model do danych treningowych\n",
        "algo.fit(trainset)"
      ],
      "metadata": {
        "colab": {
          "base_uri": "https://localhost:8080/"
        },
        "id": "qMffG4yOzHNR",
        "outputId": "9305d607-9380-4cbc-e1fc-4a4880b73f48"
      },
      "execution_count": 25,
      "outputs": [
        {
          "output_type": "stream",
          "name": "stdout",
          "text": [
            "Computing the cosine similarity matrix...\n",
            "Done computing similarity matrix.\n"
          ]
        },
        {
          "output_type": "execute_result",
          "data": {
            "text/plain": [
              "<surprise.prediction_algorithms.knns.KNNWithMeans at 0x7e2859e80a30>"
            ]
          },
          "metadata": {},
          "execution_count": 25
        }
      ]
    },
    {
      "cell_type": "code",
      "source": [
        "# Display unique movie titles in the dataset\n",
        "unique_titles = movies['title'].unique()\n",
        "print(unique_titles)\n"
      ],
      "metadata": {
        "colab": {
          "base_uri": "https://localhost:8080/"
        },
        "id": "_V6P-3RkzgW_",
        "outputId": "4c11b49f-2238-42c7-9e35-02842bca4932"
      },
      "execution_count": 26,
      "outputs": [
        {
          "output_type": "stream",
          "name": "stdout",
          "text": [
            "['Toy Story (1995)' 'Jumanji (1995)' 'Grumpier Old Men (1995)' ...\n",
            " 'Flint (2017)' 'Bungo Stray Dogs: Dead Apple (2018)'\n",
            " 'Andrew Dice Clay: Dice Rules (1991)']\n"
          ]
        }
      ]
    },
    {
      "cell_type": "code",
      "source": [
        "# Get movie IDs for \"Jumanji\" and \"Flint\"\n",
        "jumanji_id = movies.loc[movies['title'] == 'Jumanji (1995)', 'movieId'].values[0]\n",
        "flint_id = movies.loc[movies['title'] == 'Flint (2017)', 'movieId'].values[0]\n"
      ],
      "metadata": {
        "id": "zGh_etH3zmJQ"
      },
      "execution_count": 27,
      "outputs": []
    },
    {
      "cell_type": "code",
      "source": [
        "print(movies[movies['title'] == 'Flint (2017)'])\n"
      ],
      "metadata": {
        "id": "ZIR0yMgjz0o2",
        "colab": {
          "base_uri": "https://localhost:8080/"
        },
        "outputId": "913cfa96-41e8-4c27-9a43-3b974e1fe5ac"
      },
      "execution_count": 28,
      "outputs": [
        {
          "output_type": "stream",
          "name": "stdout",
          "text": [
            "      movieId         title genres\n",
            "9739   193585  Flint (2017)  Drama\n"
          ]
        }
      ]
    },
    {
      "cell_type": "code",
      "source": [
        "print(movies[movies['title'] == 'Flint (2017)'])\n"
      ],
      "metadata": {
        "colab": {
          "base_uri": "https://localhost:8080/"
        },
        "id": "EsT197qV0E1s",
        "outputId": "2ef46ea3-d2bc-4292-acdc-aa5781dcaef6"
      },
      "execution_count": 29,
      "outputs": [
        {
          "output_type": "stream",
          "name": "stdout",
          "text": [
            "      movieId         title genres\n",
            "9739   193585  Flint (2017)  Drama\n"
          ]
        }
      ]
    },
    {
      "cell_type": "code",
      "source": [
        "flint_id = 193585  # Ustawiamy poprawny identyfikator filmu \"Flint (2017)\""
      ],
      "metadata": {
        "id": "3y_yrw2qz7VY"
      },
      "execution_count": 30,
      "outputs": []
    },
    {
      "cell_type": "code",
      "source": [
        "# Sprawdzenie, czy \"Flint (2017)\" jest obecny w zbiorze treningowym\n",
        "if flint_id in trainset.all_items():\n",
        "    # Znajdź filmy podobne do \"Flint\"\n",
        "    flint_neighbors = algo.get_neighbors(flint_id, k=5)\n"
      ],
      "metadata": {
        "id": "sCPqGezR0csS"
      },
      "execution_count": 31,
      "outputs": []
    },
    {
      "cell_type": "code",
      "source": [
        "# Sprawdzenie, czy \"Flint (2017)\" jest obecny w zbiorze treningowym\n",
        "if flint_id in trainset.all_items():\n",
        "    # Znajdź filmy podobne do \"Flint\"\n",
        "    flint_neighbors = algo.get_neighbors(flint_id, k=5)\n",
        "\n"
      ],
      "metadata": {
        "id": "jHk3mpW50dly"
      },
      "execution_count": 32,
      "outputs": []
    },
    {
      "cell_type": "code",
      "source": [
        "# Sprawdzenie, czy \"Flint (2017)\" jest obecny w zbiorze treningowym\n",
        "if flint_id in trainset.all_items():\n",
        "    # Znajdź filmy podobne do \"Flint\"\n",
        "    flint_neighbors = algo.get_neighbors(flint_id, k=5)\n",
        "\n",
        "    # Wyświetl rekomendacje\n",
        "    print(\"Rekomendacje po obejrzeniu filmu Flint:\")\n",
        "    for movie_id in flint_neighbors:\n",
        "        title = movies[movies['movieId'] == movie_id]['title'].values[0]\n",
        "        print(\"-\", title)\n",
        "else:\n",
        "    print(\"Film 'Flint (2017)' nie jest obecny w zbiorze treningowym.\")\n",
        "\n"
      ],
      "metadata": {
        "id": "FcL4IzwW2J7x",
        "colab": {
          "base_uri": "https://localhost:8080/"
        },
        "outputId": "048aef14-70e9-4786-dcd9-f170b5a50c8a"
      },
      "execution_count": 34,
      "outputs": [
        {
          "output_type": "stream",
          "name": "stdout",
          "text": [
            "Film 'Flint (2017)' nie jest obecny w zbiorze treningowym.\n"
          ]
        }
      ]
    },
    {
      "cell_type": "code",
      "source": [],
      "metadata": {
        "id": "2n-bzk6p1Pi-"
      },
      "execution_count": null,
      "outputs": []
    },
    {
      "cell_type": "code",
      "source": [
        "# Znajdź najczęściej oceniane filmy\n",
        "popular_movies = ratings.groupby('movieId').size().sort_values(ascending=False)\n",
        "top_movies = popular_movies.index[:5]\n",
        "\n",
        "# Wyświetl rekomendacje\n",
        "print(\"Rekomendowane filmy:\")\n",
        "for movie_id in top_movies:\n",
        "    title = movies[movies['movieId'] == movie_id]['title'].values[0]\n",
        "    print(\"-\", title)"
      ],
      "metadata": {
        "colab": {
          "base_uri": "https://localhost:8080/"
        },
        "id": "5d053h6p0Q15",
        "outputId": "873df429-5298-484d-b23a-9b419e4fbca5"
      },
      "execution_count": 37,
      "outputs": [
        {
          "output_type": "stream",
          "name": "stdout",
          "text": [
            "Rekomendowane filmy:\n",
            "- Forrest Gump (1994)\n",
            "- Shawshank Redemption, The (1994)\n",
            "- Pulp Fiction (1994)\n",
            "- Silence of the Lambs, The (1991)\n",
            "- Matrix, The (1999)\n"
          ]
        }
      ]
    },
    {
      "cell_type": "code",
      "source": [
        "# Znajdź filmy podobne do \"Jumanji\"\n",
        "jumanji_neighbors = algo.get_neighbors(jumanji_id, k=5)"
      ],
      "metadata": {
        "id": "JFRaF6G0zJ8i"
      },
      "execution_count": null,
      "outputs": []
    },
    {
      "cell_type": "code",
      "source": [
        "# Wyświetl rekomendacje\n",
        "print(\"Rekomendacje po obejrzeniu filmu Jumanji:\")\n",
        "for movie_id in jumanji_neighbors:\n",
        "    title = movies[movies['movieId'] == movie_id]['title'].values[0]\n",
        "    print(\"-\", title)"
      ],
      "metadata": {
        "colab": {
          "base_uri": "https://localhost:8080/",
          "height": 228
        },
        "id": "P-wVXnrbzM2h",
        "outputId": "cfe53662-7d1f-4725-eee4-ae20c3fd4d90"
      },
      "execution_count": 38,
      "outputs": [
        {
          "output_type": "stream",
          "name": "stdout",
          "text": [
            "Rekomendacje po obejrzeniu filmu Jumanji:\n"
          ]
        },
        {
          "output_type": "error",
          "ename": "NameError",
          "evalue": "name 'jumanji_neighbors' is not defined",
          "traceback": [
            "\u001b[0;31m---------------------------------------------------------------------------\u001b[0m",
            "\u001b[0;31mNameError\u001b[0m                                 Traceback (most recent call last)",
            "\u001b[0;32m<ipython-input-38-8cef2eb49c06>\u001b[0m in \u001b[0;36m<cell line: 3>\u001b[0;34m()\u001b[0m\n\u001b[1;32m      1\u001b[0m \u001b[0;31m# Wyświetl rekomendacje\u001b[0m\u001b[0;34m\u001b[0m\u001b[0;34m\u001b[0m\u001b[0m\n\u001b[1;32m      2\u001b[0m \u001b[0mprint\u001b[0m\u001b[0;34m(\u001b[0m\u001b[0;34m\"Rekomendacje po obejrzeniu filmu Jumanji:\"\u001b[0m\u001b[0;34m)\u001b[0m\u001b[0;34m\u001b[0m\u001b[0;34m\u001b[0m\u001b[0m\n\u001b[0;32m----> 3\u001b[0;31m \u001b[0;32mfor\u001b[0m \u001b[0mmovie_id\u001b[0m \u001b[0;32min\u001b[0m \u001b[0mjumanji_neighbors\u001b[0m\u001b[0;34m:\u001b[0m\u001b[0;34m\u001b[0m\u001b[0;34m\u001b[0m\u001b[0m\n\u001b[0m\u001b[1;32m      4\u001b[0m     \u001b[0mtitle\u001b[0m \u001b[0;34m=\u001b[0m \u001b[0mmovies\u001b[0m\u001b[0;34m[\u001b[0m\u001b[0mmovies\u001b[0m\u001b[0;34m[\u001b[0m\u001b[0;34m'movieId'\u001b[0m\u001b[0;34m]\u001b[0m \u001b[0;34m==\u001b[0m \u001b[0mmovie_id\u001b[0m\u001b[0;34m]\u001b[0m\u001b[0;34m[\u001b[0m\u001b[0;34m'title'\u001b[0m\u001b[0;34m]\u001b[0m\u001b[0;34m.\u001b[0m\u001b[0mvalues\u001b[0m\u001b[0;34m[\u001b[0m\u001b[0;36m0\u001b[0m\u001b[0;34m]\u001b[0m\u001b[0;34m\u001b[0m\u001b[0;34m\u001b[0m\u001b[0m\n\u001b[1;32m      5\u001b[0m     \u001b[0mprint\u001b[0m\u001b[0;34m(\u001b[0m\u001b[0;34m\"-\"\u001b[0m\u001b[0;34m,\u001b[0m \u001b[0mtitle\u001b[0m\u001b[0;34m)\u001b[0m\u001b[0;34m\u001b[0m\u001b[0;34m\u001b[0m\u001b[0m\n",
            "\u001b[0;31mNameError\u001b[0m: name 'jumanji_neighbors' is not defined"
          ]
        }
      ]
    },
    {
      "cell_type": "code",
      "source": [
        "print(\"\\nRekomendacje po obejrzeniu filmu Flint:\")\n",
        "for movie_id in flint_neighbors:\n",
        "    title = movies[movies['movieId'] == movie_id]['title'].values[0]\n",
        "    print(\"-\", title)"
      ],
      "metadata": {
        "id": "dDDAp1ygzOHd"
      },
      "execution_count": null,
      "outputs": []
    },
    {
      "cell_type": "code",
      "source": [
        "from sklearn.feature_extraction.text import TfidfVectorizer\n",
        "from sklearn.metrics.pairwise import linear_kernel"
      ],
      "metadata": {
        "id": "24_brYta8H3I"
      },
      "execution_count": 39,
      "outputs": []
    },
    {
      "cell_type": "code",
      "source": [
        "# Utwórz macierz TF-IDF dla kolumny 'genres'\n",
        "tfidf = TfidfVectorizer(stop_words='english')\n",
        "tfidf_matrix = tfidf.fit_transform(movies['genres'])"
      ],
      "metadata": {
        "id": "jKKMV_IX8Js2"
      },
      "execution_count": 40,
      "outputs": []
    },
    {
      "cell_type": "code",
      "source": [
        "# Oblicz podobieństwo kosinusowe między filmami na podstawie macierzy TF-IDF\n",
        "cosine_sim = linear_kernel(tfidf_matrix, tfidf_matrix)"
      ],
      "metadata": {
        "id": "6E2wYrRP8LQ-"
      },
      "execution_count": 41,
      "outputs": []
    },
    {
      "cell_type": "code",
      "source": [
        "# Funkcja do generowania rekomendacji na podstawie podobieństwa kosinusowego\n",
        "def get_recommendations(title, cosine_sim=cosine_sim):\n",
        "    idx = movies[movies['title'] == title].index[0]\n",
        "    sim_scores = list(enumerate(cosine_sim[idx]))\n",
        "    sim_scores = sorted(sim_scores, key=lambda x: x[1], reverse=True)\n",
        "    sim_scores = sim_scores[1:6]\n",
        "    movie_indices = [i[0] for i in sim_scores]\n",
        "    return movies['title'].iloc[movie_indices]"
      ],
      "metadata": {
        "id": "asK4BGwt8M1h"
      },
      "execution_count": 42,
      "outputs": []
    },
    {
      "cell_type": "code",
      "source": [
        "# Rekomendacje dla filmu \"Jumanji (1995)\"\n",
        "print(\"Rekomendacje po obejrzeniu filmu Jumanji:\")\n",
        "print(get_recommendations(\"Jumanji (1995)\"))\n"
      ],
      "metadata": {
        "colab": {
          "base_uri": "https://localhost:8080/"
        },
        "id": "9MLFyn3C8Nao",
        "outputId": "03e65d61-7421-4f01-afdd-c7b2181d149d"
      },
      "execution_count": 43,
      "outputs": [
        {
          "output_type": "stream",
          "name": "stdout",
          "text": [
            "Rekomendacje po obejrzeniu filmu Jumanji:\n",
            "53             Indian in the Cupboard, The (1995)\n",
            "109             NeverEnding Story III, The (1994)\n",
            "767               Escape to Witch Mountain (1975)\n",
            "1514    Darby O'Gill and the Little People (1959)\n",
            "1556                          Return to Oz (1985)\n",
            "Name: title, dtype: object\n"
          ]
        }
      ]
    },
    {
      "cell_type": "code",
      "source": [
        "# Rekomendacje dla filmu \"Flint (2017)\"\n",
        "print(\"\\nRekomendacje po obejrzeniu filmu Flint:\")\n",
        "print(get_recommendations(\"Flint (2017)\"))"
      ],
      "metadata": {
        "colab": {
          "base_uri": "https://localhost:8080/"
        },
        "id": "W9oZmzzC8QMZ",
        "outputId": "e1eb7707-8be5-4561-a56b-6327416fef3f"
      },
      "execution_count": 44,
      "outputs": [
        {
          "output_type": "stream",
          "name": "stdout",
          "text": [
            "\n",
            "Rekomendacje po obejrzeniu filmu Flint:\n",
            "25                     Othello (1995)\n",
            "30             Dangerous Minds (1995)\n",
            "36    Cry, the Beloved Country (1995)\n",
            "39                 Restoration (1995)\n",
            "50                     Georgia (1995)\n",
            "Name: title, dtype: object\n"
          ]
        }
      ]
    }
  ]
}